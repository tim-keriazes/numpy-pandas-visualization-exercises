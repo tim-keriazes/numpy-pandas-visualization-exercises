{
 "cells": [
  {
   "cell_type": "code",
   "execution_count": 1,
   "id": "9b9b5ad4",
   "metadata": {},
   "outputs": [],
   "source": [
    "import seaborn as sns\n",
    "import pandas as pd\n",
    "import numpy as np\n",
    "import matplotlib.pyplot as plt\n",
    "from pydataset import data"
   ]
  },
  {
   "cell_type": "code",
   "execution_count": 2,
   "id": "0445369e",
   "metadata": {},
   "outputs": [
    {
     "name": "stdout",
     "output_type": "stream",
     "text": [
      "iris\n",
      "\n",
      "PyDataset Documentation (adopted from R Documentation. The displayed examples are in R)\n",
      "\n",
      "## Edgar Anderson's Iris Data\n",
      "\n",
      "### Description\n",
      "\n",
      "This famous (Fisher's or Anderson's) iris data set gives the measurements in\n",
      "centimeters of the variables sepal length and width and petal length and\n",
      "width, respectively, for 50 flowers from each of 3 species of iris. The\n",
      "species are _Iris setosa_, _versicolor_, and _virginica_.\n",
      "\n",
      "### Usage\n",
      "\n",
      "    iris\n",
      "    iris3\n",
      "\n",
      "### Format\n",
      "\n",
      "`iris` is a data frame with 150 cases (rows) and 5 variables (columns) named\n",
      "`Sepal.Length`, `Sepal.Width`, `Petal.Length`, `Petal.Width`, and `Species`.\n",
      "\n",
      "`iris3` gives the same data arranged as a 3-dimensional array of size 50 by 4\n",
      "by 3, as represented by S-PLUS. The first dimension gives the case number\n",
      "within the species subsample, the second the measurements with names `Sepal\n",
      "L.`, `Sepal W.`, `Petal L.`, and `Petal W.`, and the third the species.\n",
      "\n",
      "### Source\n",
      "\n",
      "Fisher, R. A. (1936) The use of multiple measurements in taxonomic problems.\n",
      "_Annals of Eugenics_, **7**, Part II, 179–188.\n",
      "\n",
      "The data were collected by Anderson, Edgar (1935). The irises of the Gaspe\n",
      "Peninsula, _Bulletin of the American Iris Society_, **59**, 2–5.\n",
      "\n",
      "### References\n",
      "\n",
      "Becker, R. A., Chambers, J. M. and Wilks, A. R. (1988) _The New S Language_.\n",
      "Wadsworth & Brooks/Cole. (has `iris3` as `iris`.)\n",
      "\n",
      "### See Also\n",
      "\n",
      "`matplot` some examples of which use `iris`.\n",
      "\n",
      "### Examples\n",
      "\n",
      "    dni3 <- dimnames(iris3)\n",
      "    ii <- data.frame(matrix(aperm(iris3, c(1,3,2)), ncol = 4,\n",
      "                            dimnames = list(NULL, sub(\" L.\",\".Length\",\n",
      "                                            sub(\" W.\",\".Width\", dni3[[2]])))),\n",
      "        Species = gl(3, 50, labels = sub(\"S\", \"s\", sub(\"V\", \"v\", dni3[[3]]))))\n",
      "    all.equal(ii, iris) # TRUE\n",
      "\n",
      "\n"
     ]
    }
   ],
   "source": [
    "iris=data('iris')\n",
    "data('iris', show_doc=True)"
   ]
  },
  {
   "cell_type": "code",
   "execution_count": 3,
   "id": "6f2f612c",
   "metadata": {},
   "outputs": [
    {
     "name": "stdout",
     "output_type": "stream",
     "text": [
      "<class 'pandas.core.frame.DataFrame'>\n",
      "Int64Index: 150 entries, 1 to 150\n",
      "Data columns (total 5 columns):\n",
      " #   Column        Non-Null Count  Dtype  \n",
      "---  ------        --------------  -----  \n",
      " 0   Sepal.Length  150 non-null    float64\n",
      " 1   Sepal.Width   150 non-null    float64\n",
      " 2   Petal.Length  150 non-null    float64\n",
      " 3   Petal.Width   150 non-null    float64\n",
      " 4   Species       150 non-null    object \n",
      "dtypes: float64(4), object(1)\n",
      "memory usage: 7.0+ KB\n"
     ]
    }
   ],
   "source": [
    "iris.info()"
   ]
  },
  {
   "cell_type": "code",
   "execution_count": 4,
   "id": "0dd93f1d",
   "metadata": {},
   "outputs": [
    {
     "data": {
      "text/html": [
       "<div>\n",
       "<style scoped>\n",
       "    .dataframe tbody tr th:only-of-type {\n",
       "        vertical-align: middle;\n",
       "    }\n",
       "\n",
       "    .dataframe tbody tr th {\n",
       "        vertical-align: top;\n",
       "    }\n",
       "\n",
       "    .dataframe thead th {\n",
       "        text-align: right;\n",
       "    }\n",
       "</style>\n",
       "<table border=\"1\" class=\"dataframe\">\n",
       "  <thead>\n",
       "    <tr style=\"text-align: right;\">\n",
       "      <th></th>\n",
       "      <th>Sepal.Length</th>\n",
       "      <th>Sepal.Width</th>\n",
       "      <th>Petal.Length</th>\n",
       "      <th>Petal.Width</th>\n",
       "    </tr>\n",
       "  </thead>\n",
       "  <tbody>\n",
       "    <tr>\n",
       "      <th>count</th>\n",
       "      <td>150.000000</td>\n",
       "      <td>150.000000</td>\n",
       "      <td>150.000000</td>\n",
       "      <td>150.000000</td>\n",
       "    </tr>\n",
       "    <tr>\n",
       "      <th>mean</th>\n",
       "      <td>5.843333</td>\n",
       "      <td>3.057333</td>\n",
       "      <td>3.758000</td>\n",
       "      <td>1.199333</td>\n",
       "    </tr>\n",
       "    <tr>\n",
       "      <th>std</th>\n",
       "      <td>0.828066</td>\n",
       "      <td>0.435866</td>\n",
       "      <td>1.765298</td>\n",
       "      <td>0.762238</td>\n",
       "    </tr>\n",
       "    <tr>\n",
       "      <th>min</th>\n",
       "      <td>4.300000</td>\n",
       "      <td>2.000000</td>\n",
       "      <td>1.000000</td>\n",
       "      <td>0.100000</td>\n",
       "    </tr>\n",
       "    <tr>\n",
       "      <th>25%</th>\n",
       "      <td>5.100000</td>\n",
       "      <td>2.800000</td>\n",
       "      <td>1.600000</td>\n",
       "      <td>0.300000</td>\n",
       "    </tr>\n",
       "    <tr>\n",
       "      <th>50%</th>\n",
       "      <td>5.800000</td>\n",
       "      <td>3.000000</td>\n",
       "      <td>4.350000</td>\n",
       "      <td>1.300000</td>\n",
       "    </tr>\n",
       "    <tr>\n",
       "      <th>75%</th>\n",
       "      <td>6.400000</td>\n",
       "      <td>3.300000</td>\n",
       "      <td>5.100000</td>\n",
       "      <td>1.800000</td>\n",
       "    </tr>\n",
       "    <tr>\n",
       "      <th>max</th>\n",
       "      <td>7.900000</td>\n",
       "      <td>4.400000</td>\n",
       "      <td>6.900000</td>\n",
       "      <td>2.500000</td>\n",
       "    </tr>\n",
       "  </tbody>\n",
       "</table>\n",
       "</div>"
      ],
      "text/plain": [
       "       Sepal.Length  Sepal.Width  Petal.Length  Petal.Width\n",
       "count    150.000000   150.000000    150.000000   150.000000\n",
       "mean       5.843333     3.057333      3.758000     1.199333\n",
       "std        0.828066     0.435866      1.765298     0.762238\n",
       "min        4.300000     2.000000      1.000000     0.100000\n",
       "25%        5.100000     2.800000      1.600000     0.300000\n",
       "50%        5.800000     3.000000      4.350000     1.300000\n",
       "75%        6.400000     3.300000      5.100000     1.800000\n",
       "max        7.900000     4.400000      6.900000     2.500000"
      ]
     },
     "execution_count": 4,
     "metadata": {},
     "output_type": "execute_result"
    }
   ],
   "source": [
    "iris.describe()"
   ]
  },
  {
   "cell_type": "code",
   "execution_count": null,
   "id": "757c884e",
   "metadata": {},
   "outputs": [],
   "source": []
  },
  {
   "cell_type": "code",
   "execution_count": 43,
   "id": "b544b6ed",
   "metadata": {},
   "outputs": [
    {
     "data": {
      "image/png": "[encoded data removed]",
      "text/plain": [
       "<Figure size 1080x360 with 3 Axes>"
      ]
     },
     "metadata": {},
     "output_type": "display_data"
    }
   ],
   "source": [
    "sns.displot(data = iris, x='Petal.Width', col='Species')\n",
    "sns.set_theme()"
   ]
  },
  {
   "cell_type": "code",
   "execution_count": 75,
   "id": "8e2e6658",
   "metadata": {},
   "outputs": [
    {
     "data": {
      "text/plain": [
       "<AxesSubplot:>"
      ]
     },
     "execution_count": 75,
     "metadata": {},
     "output_type": "execute_result"
    },
    {
     "data": {
      "image/png": "[encoded data removed]",
      "text/plain": [
       "<Figure size 432x288 with 2 Axes>"
      ]
     },
     "metadata": {},
     "output_type": "display_data"
    }
   ],
   "source": [
    "#correlation between petal length and petal width, longest petal length to shortest sepal width\n",
    "corr=iris.corr()\n",
    "sns.heatmap(corr, cmap='Reds', annot=True, fmt='0.5')"
   ]
  },
  {
   "cell_type": "code",
   "execution_count": 78,
   "id": "ae689b14",
   "metadata": {},
   "outputs": [
    {
     "data": {
      "image/png": "[encoded data removed]",
      "text/plain": [
       "<Figure size 1080x360 with 3 Axes>"
      ]
     },
     "metadata": {},
     "output_type": "display_data"
    }
   ],
   "source": [
    "#visualization to show where a datapoint might suggest a species\n",
    "sns.displot(data = iris, x='Petal.Length', y='Sepal.Width', col='Species', cmap='Reds' )\n",
    "sns.set_theme()"
   ]
  },
  {
   "cell_type": "code",
   "execution_count": null,
   "id": "7f62095b",
   "metadata": {},
   "outputs": [],
   "source": [
    "#i think the petal length and sepal width best prediction results"
   ]
  },
  {
   "cell_type": "code",
   "execution_count": null,
   "id": "b21789ac",
   "metadata": {},
   "outputs": [],
   "source": [
    "##anscombe data set"
   ]
  },
  {
   "cell_type": "code",
   "execution_count": 79,
   "id": "313b4909",
   "metadata": {},
   "outputs": [
    {
     "name": "stdout",
     "output_type": "stream",
     "text": [
      "anscombe\n",
      "\n",
      "PyDataset Documentation (adopted from R Documentation. The displayed examples are in R)\n",
      "\n",
      "## Anscombe's Quartet of ‘Identical’ Simple Linear Regressions\n",
      "\n",
      "### Description\n",
      "\n",
      "Four _x_-_y_ datasets which have the same traditional statistical properties\n",
      "(mean, variance, correlation, regression line, etc.), yet are quite different.\n",
      "\n",
      "### Usage\n",
      "\n",
      "    anscombe\n",
      "\n",
      "### Format\n",
      "\n",
      "A data frame with 11 observations on 8 variables.\n",
      "\n",
      "x1 == x2 == x3\n",
      "\n",
      "the integers 4:14, specially arranged\n",
      "\n",
      "x4\n",
      "\n",
      "values 8 and 19\n",
      "\n",
      "y1, y2, y3, y4\n",
      "\n",
      "numbers in (3, 12.5) with mean 7.5 and sdev 2.03\n",
      "\n",
      "### Source\n",
      "\n",
      "Tufte, Edward R. (1989) _The Visual Display of Quantitative Information_,\n",
      "13–14. Graphics Press.\n",
      "\n",
      "### References\n",
      "\n",
      "Anscombe, Francis J. (1973) Graphs in statistical analysis. _American\n",
      "Statistician_, **27**, 17–21.\n",
      "\n",
      "### Examples\n",
      "\n",
      "    require(stats); require(graphics)\n",
      "    summary(anscombe)\n",
      "    ##-- now some \"magic\" to do the 4 regressions in a loop:\n",
      "    ff <- y ~ x\n",
      "    mods <- setNames(as.list(1:4), paste0(\"lm\", 1:4))\n",
      "    for(i in 1:4) {\n",
      "      ff[2:3] <- lapply(paste0(c(\"y\",\"x\"), i), as.name)\n",
      "      ## or   ff[[2]] <- as.name(paste0(\"y\", i))\n",
      "      ##      ff[[3]] <- as.name(paste0(\"x\", i))\n",
      "      mods[[i]] <- lmi <- lm(ff, data = anscombe)\n",
      "      print(anova(lmi))\n",
      "    }\n",
      "    ## See how close they are (numerically!)\n",
      "    sapply(mods, coef)\n",
      "    lapply(mods, function(fm) coef(summary(fm)))\n",
      "    ## Now, do what you should have done in the first place: PLOTS\n",
      "    op <- par(mfrow = c(2, 2), mar = 0.1+c(4,4,1,1), oma =  c(0, 0, 2, 0))\n",
      "    for(i in 1:4) {\n",
      "      ff[2:3] <- lapply(paste0(c(\"y\",\"x\"), i), as.name)\n",
      "      plot(ff, data = anscombe, col = \"red\", pch = 21, bg = \"orange\", cex = 1.2,\n",
      "           xlim = c(3, 19), ylim = c(3, 13))\n",
      "      abline(mods[[i]], col = \"blue\")\n",
      "    }\n",
      "    mtext(\"Anscombe's 4 Regression data sets\", outer = TRUE, cex = 1.5)\n",
      "    par(op)\n",
      "\n",
      "\n"
     ]
    }
   ],
   "source": [
    "anscombe=data('anscombe')\n",
    "data('anscombe', show_doc=True)"
   ]
  },
  {
   "cell_type": "code",
   "execution_count": null,
   "id": "c1b30917",
   "metadata": {},
   "outputs": [],
   "source": []
  },
  {
   "cell_type": "code",
   "execution_count": 80,
   "id": "8a01b78a",
   "metadata": {},
   "outputs": [
    {
     "name": "stdout",
     "output_type": "stream",
     "text": [
      "InsectSprays\n",
      "\n",
      "PyDataset Documentation (adopted from R Documentation. The displayed examples are in R)\n",
      "\n",
      "## Effectiveness of Insect Sprays\n",
      "\n",
      "### Description\n",
      "\n",
      "The counts of insects in agricultural experimental units treated with\n",
      "different insecticides.\n",
      "\n",
      "### Usage\n",
      "\n",
      "    InsectSprays\n",
      "\n",
      "### Format\n",
      "\n",
      "A data frame with 72 observations on 2 variables.\n",
      "\n",
      "[,1]\n",
      "\n",
      "count\n",
      "\n",
      "numeric\n",
      "\n",
      "Insect count\n",
      "\n",
      "[,2]\n",
      "\n",
      "spray\n",
      "\n",
      "factor\n",
      "\n",
      "The type of spray\n",
      "\n",
      "### Source\n",
      "\n",
      "Beall, G., (1942) The Transformation of data from entomological field\n",
      "experiments, _Biometrika_, **29**, 243–262.\n",
      "\n",
      "### References\n",
      "\n",
      "McNeil, D. (1977) _Interactive Data Analysis_. New York: Wiley.\n",
      "\n",
      "### Examples\n",
      "\n",
      "    require(stats); require(graphics)\n",
      "    boxplot(count ~ spray, data = InsectSprays,\n",
      "            xlab = \"Type of spray\", ylab = \"Insect count\",\n",
      "            main = \"InsectSprays data\", varwidth = TRUE, col = \"lightgray\")\n",
      "    fm1 <- aov(count ~ spray, data = InsectSprays)\n",
      "    summary(fm1)\n",
      "    opar <- par(mfrow = c(2, 2), oma = c(0, 0, 1.1, 0))\n",
      "    plot(fm1)\n",
      "    fm2 <- aov(sqrt(count) ~ spray, data = InsectSprays)\n",
      "    summary(fm2)\n",
      "    plot(fm2)\n",
      "    par(opar)\n",
      "\n",
      "\n"
     ]
    }
   ],
   "source": [
    "InsectSprays=data('InsectSprays')\n",
    "data('InsectSprays', show_doc=True)"
   ]
  },
  {
   "cell_type": "code",
   "execution_count": null,
   "id": "a5f6187d",
   "metadata": {},
   "outputs": [],
   "source": []
  },
  {
   "cell_type": "code",
   "execution_count": null,
   "id": "051baa36",
   "metadata": {},
   "outputs": [],
   "source": []
  },
  {
   "cell_type": "code",
   "execution_count": null,
   "id": "d309503d",
   "metadata": {},
   "outputs": [],
   "source": []
  },
  {
   "cell_type": "code",
   "execution_count": null,
   "id": "f45a2e44",
   "metadata": {},
   "outputs": [],
   "source": []
  },
  {
   "cell_type": "code",
   "execution_count": null,
   "id": "f44c9e3c",
   "metadata": {},
   "outputs": [],
   "source": []
  },
  {
   "cell_type": "code",
   "execution_count": null,
   "id": "a9e5cd15",
   "metadata": {},
   "outputs": [],
   "source": []
  },
  {
   "cell_type": "code",
   "execution_count": null,
   "id": "136d6389",
   "metadata": {},
   "outputs": [],
   "source": []
  },
  {
   "cell_type": "code",
   "execution_count": null,
   "id": "9c0bfada",
   "metadata": {},
   "outputs": [],
   "source": []
  },
  {
   "cell_type": "code",
   "execution_count": null,
   "id": "384bbed8",
   "metadata": {},
   "outputs": [],
   "source": []
  },
  {
   "cell_type": "code",
   "execution_count": null,
   "id": "0c0a1a02",
   "metadata": {},
   "outputs": [],
   "source": []
  },
  {
   "cell_type": "code",
   "execution_count": null,
   "id": "e2779ab8",
   "metadata": {},
   "outputs": [],
   "source": []
  },
  {
   "cell_type": "code",
   "execution_count": null,
   "id": "c76853c0",
   "metadata": {},
   "outputs": [],
   "source": []
  },
  {
   "cell_type": "code",
   "execution_count": null,
   "id": "ee9cabb1",
   "metadata": {},
   "outputs": [],
   "source": []
  },
  {
   "cell_type": "code",
   "execution_count": null,
   "id": "79eecea7",
   "metadata": {},
   "outputs": [],
   "source": []
  },
  {
   "cell_type": "code",
   "execution_count": null,
   "id": "ec972ccb",
   "metadata": {},
   "outputs": [],
   "source": []
  },
  {
   "cell_type": "code",
   "execution_count": null,
   "id": "66ece926",
   "metadata": {},
   "outputs": [],
   "source": []
  }
 ],
 "metadata": {
  "kernelspec": {
   "display_name": "Python 3 (ipykernel)",
   "language": "python",
   "name": "python3"
  },
  "language_info": {
   "codemirror_mode": {
    "name": "ipython",
    "version": 3
   },
   "file_extension": ".py",
   "mimetype": "text/x-python",
   "name": "python",
   "nbconvert_exporter": "python",
   "pygments_lexer": "ipython3",
   "version": "3.9.12"
  }
 },
 "nbformat": 4,
 "nbformat_minor": 5
}
