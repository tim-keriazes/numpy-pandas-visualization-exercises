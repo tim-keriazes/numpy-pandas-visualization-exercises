{
 "cells": [
  {
   "cell_type": "code",
   "execution_count": 2,
   "id": "9a2aa61c",
   "metadata": {},
   "outputs": [],
   "source": [
    "import matplotlib.pyplot as plt\n",
    "import numpy as np\n",
    "import math\n",
    "import random\n"
   ]
  },
  {
   "cell_type": "code",
   "execution_count": null,
   "id": "d46d87d6",
   "metadata": {},
   "outputs": [],
   "source": [
    "Use matplotlib to plot the following equation:\n",
    "\n",
    "y=x2−x+2\n",
    "You'll need to write the code that generates the x and y points.\n",
    "\n",
    "Add an anotation for the point 0, 0, the origin."
   ]
  },
  {
   "cell_type": "code",
   "execution_count": 49,
   "id": "95411a1a",
   "metadata": {},
   "outputs": [
    {
     "data": {
      "text/plain": [
       "Text(0, 0.5, 'y=x^2−x+2')"
      ]
     },
     "execution_count": 49,
     "metadata": {},
     "output_type": "execute_result"
    },
    {
     "data": {
      "image/png": "[encoded data removed]",
      "text/plain": [
       "<Figure size 576x432 with 1 Axes>"
      ]
     },
     "metadata": {
      "needs_background": "light"
     },
     "output_type": "display_data"
    }
   ],
   "source": [
    "# 100 linearly spaced numbers\n",
    "plt.figure(figsize=(8,6))\n",
    "x = np.linspace(-10,10,100)\n",
    "\n",
    "# the function\n",
    "y= quadratic = ((x**2)-x+2)\n",
    "plt.plot(x,y)\n",
    "\n",
    "#labels, grids, ylim, title\n",
    "plt.title('quadratic')\n",
    "plt.grid(ls='-')\n",
    "plt.ylim(0,10)\n",
    "plt.ylim(-0,10)\n",
    "plt.xlabel('x')\n",
    "plt.ylabel('y=x^2−x+2')"
   ]
  },
  {
   "cell_type": "code",
   "execution_count": 50,
   "id": "31595cc1",
   "metadata": {},
   "outputs": [
    {
     "data": {
      "text/plain": [
       "Text(0, 0.5, '$ y=x^2−x+2 $')"
      ]
     },
     "execution_count": 50,
     "metadata": {},
     "output_type": "execute_result"
    },
    {
     "data": {
      "image/png": "[encoded data removed]",
      "text/plain": [
       "<Figure size 432x288 with 1 Axes>"
      ]
     },
     "metadata": {
      "needs_background": "light"
     },
     "output_type": "display_data"
    }
   ],
   "source": [
    "# 100 linearly spaced numbers\n",
    "x = range(-50,50)\n",
    "\n",
    "# the function\n",
    "y= quadratic = [((x**2)-x+2)for x in x]\n",
    "plt.plot(x,y)\n",
    "\n",
    "#labels, grids, ylim, title\n",
    "plt.title('quadratic')\n",
    "plt.grid(ls='-')\n",
    "plt.ylim(0,10)\n",
    "plt.ylim(-10,10)\n",
    "plt.xlabel('x')\n",
    "plt.ylabel('$ y=x^2−x+2 $')"
   ]
  },
  {
   "cell_type": "code",
   "execution_count": null,
   "id": "ccc8af9e",
   "metadata": {},
   "outputs": [],
   "source": [
    "Create and label 4 separate charts for the following equations (choose a range for x that makes sense):\n",
    "\n",
    "y=√x\n",
    "y=x3\n",
    "y=2x\n",
    "y=1/(x+1)\n",
    "You can use functions from the math module to help implement some of the equations above."
   ]
  },
  {
   "cell_type": "code",
   "execution_count": 55,
   "id": "f9d50c29",
   "metadata": {},
   "outputs": [
    {
     "ename": "ValueError",
     "evalue": "math domain error",
     "output_type": "error",
     "traceback": [
      "\u001b[1;31m---------------------------------------------------------------------------\u001b[0m",
      "\u001b[1;31mValueError\u001b[0m                                Traceback (most recent call last)",
      "Input \u001b[1;32mIn [55]\u001b[0m, in \u001b[0;36m<cell line: 3>\u001b[1;34m()\u001b[0m\n\u001b[0;32m      1\u001b[0m plt\u001b[38;5;241m.\u001b[39mfigure(figsize\u001b[38;5;241m=\u001b[39m(\u001b[38;5;241m8\u001b[39m,\u001b[38;5;241m6\u001b[39m))\n\u001b[0;32m      2\u001b[0m x \u001b[38;5;241m=\u001b[39m \u001b[38;5;28mrange\u001b[39m(\u001b[38;5;241m-\u001b[39m\u001b[38;5;241m100\u001b[39m,\u001b[38;5;241m100\u001b[39m)\n\u001b[1;32m----> 3\u001b[0m y \u001b[38;5;241m=\u001b[39m squareroot \u001b[38;5;241m=\u001b[39m [math\u001b[38;5;241m.\u001b[39msqrt(x) \u001b[38;5;28;01mfor\u001b[39;00m x \u001b[38;5;129;01min\u001b[39;00m x]\n\u001b[0;32m      5\u001b[0m plt\u001b[38;5;241m.\u001b[39mplot(x,y)\n\u001b[0;32m      6\u001b[0m plt\u001b[38;5;241m.\u001b[39mtitle(\u001b[38;5;124m'\u001b[39m\u001b[38;5;124msquareroot\u001b[39m\u001b[38;5;124m'\u001b[39m)\n",
      "Input \u001b[1;32mIn [55]\u001b[0m, in \u001b[0;36m<listcomp>\u001b[1;34m(.0)\u001b[0m\n\u001b[0;32m      1\u001b[0m plt\u001b[38;5;241m.\u001b[39mfigure(figsize\u001b[38;5;241m=\u001b[39m(\u001b[38;5;241m8\u001b[39m,\u001b[38;5;241m6\u001b[39m))\n\u001b[0;32m      2\u001b[0m x \u001b[38;5;241m=\u001b[39m \u001b[38;5;28mrange\u001b[39m(\u001b[38;5;241m-\u001b[39m\u001b[38;5;241m100\u001b[39m,\u001b[38;5;241m100\u001b[39m)\n\u001b[1;32m----> 3\u001b[0m y \u001b[38;5;241m=\u001b[39m squareroot \u001b[38;5;241m=\u001b[39m [\u001b[43mmath\u001b[49m\u001b[38;5;241;43m.\u001b[39;49m\u001b[43msqrt\u001b[49m\u001b[43m(\u001b[49m\u001b[43mx\u001b[49m\u001b[43m)\u001b[49m \u001b[38;5;28;01mfor\u001b[39;00m x \u001b[38;5;129;01min\u001b[39;00m x]\n\u001b[0;32m      5\u001b[0m plt\u001b[38;5;241m.\u001b[39mplot(x,y)\n\u001b[0;32m      6\u001b[0m plt\u001b[38;5;241m.\u001b[39mtitle(\u001b[38;5;124m'\u001b[39m\u001b[38;5;124msquareroot\u001b[39m\u001b[38;5;124m'\u001b[39m)\n",
      "\u001b[1;31mValueError\u001b[0m: math domain error"
     ]
    },
    {
     "data": {
      "text/plain": [
       "<Figure size 576x432 with 0 Axes>"
      ]
     },
     "metadata": {},
     "output_type": "display_data"
    }
   ],
   "source": [
    "plt.figure(figsize=(8,6))\n",
    "x = range(-100,100)\n",
    "y = squareroot = [math.sqrt(x) for x in x]\n",
    "\n",
    "plt.plot(x,y)\n",
    "plt.title('squareroot')\n",
    "plt.grid(ls='-')\n",
    "plt.ylim(0,10)\n",
    "plt.xlabel('x')\n",
    "plt.ylabel('y=sqrt(x)')\n"
   ]
  },
  {
   "cell_type": "code",
   "execution_count": null,
   "id": "a27cedee",
   "metadata": {},
   "outputs": [],
   "source": [
    "plt.figure(figsize=(8,6))\n",
    "x = np.linspace(-10,10,100)\n",
    "y = cubed= x**3\n",
    "\n",
    "\n",
    "plt.subplot(x2,y2)\n",
    "plt.title('cubed')\n",
    "plt.grid(ls='-')\n",
    "plt.ylim(-10,10)\n",
    "plt.xlabel('x')\n",
    "plt.ylabel('y=x^3')"
   ]
  },
  {
   "cell_type": "code",
   "execution_count": null,
   "id": "e94f3729",
   "metadata": {},
   "outputs": [],
   "source": [
    "plt.figure(figsize=(8,6))\n",
    "x = np.linspace(-10,10,100)\n",
    "y = linear =2*x\n",
    "\n",
    "\n",
    "\n",
    "\n",
    "plt.subplot(x3,y3)\n",
    "plt.title('linear')\n",
    "plt.grid(ls='-')\n",
    "plt.ylim(-10,10)\n",
    "plt.xlabel('x')\n",
    "plt.ylabel('y=2x')"
   ]
  },
  {
   "cell_type": "code",
   "execution_count": null,
   "id": "81a679cb",
   "metadata": {},
   "outputs": [],
   "source": [
    "plt.figure(figsize=(8,6))\n",
    "x = np.linspace(-10,10,100)\n",
    "y = multinvers= 1/(x+1)\n",
    "\n",
    "\n",
    "plt.subplot(x4,y4)\n",
    "plt.title('multiplicative inverse')\n",
    "plt.grid(ls='-')\n",
    "plt.ylim(-10,10)\n",
    "plt.xlabel('x')\n",
    "plt.ylabel('y=1/(x+1)')"
   ]
  },
  {
   "cell_type": "code",
   "execution_count": null,
   "id": "b253418a",
   "metadata": {},
   "outputs": [],
   "source": []
  },
  {
   "cell_type": "code",
   "execution_count": null,
   "id": "74ab206c",
   "metadata": {},
   "outputs": [],
   "source": [
    "Combine the figures you created in the last step into one large figure with 4 subplots."
   ]
  },
  {
   "cell_type": "code",
   "execution_count": null,
   "id": "5bd1466c",
   "metadata": {},
   "outputs": [],
   "source": [
    "plt.figure(figsize=(8,6))\n",
    "x1 = np.linspace(-10,10,100)\n",
    "x2 = np.linspace(-10,10,100)\n",
    "x3 = np.linspace(-10,10,100)\n",
    "x4 = np.linspace(-10,10,100)\n",
    "\n",
    "y1 = squareroot = math.sqrt(x1)\n",
    "y2 = cubed= (x2)**3\n",
    "y3 = linear =2*x3\n",
    "y4 = multinvers= 1/(x4+1)\n",
    "plt.subplot(x1,y1)\n",
    "plt.title('squareroot')\n",
    "plt.grid(ls='-')\n",
    "plt.ylim(0,10)\n",
    "plt.xlabel('x')\n",
    "plt.ylabel('y=sqrt(x)')\n",
    "\n",
    "plt.subplot(x2,y2)\n",
    "plt.title('cubed')\n",
    "plt.grid(ls='-')\n",
    "plt.ylim(-10,10)\n",
    "plt.xlabel('x')\n",
    "plt.ylabel('y=x^3')\n",
    "\n",
    "plt.subplot(x3,y3)\n",
    "plt.title('linear')\n",
    "plt.grid(ls='-')\n",
    "plt.ylim(-10,10)\n",
    "plt.xlabel('x')\n",
    "plt.ylabel('y=2x')\n",
    "\n",
    "plt.subplot(x4,y4)\n",
    "plt.title('multiplicative inverse')\n",
    "plt.grid(ls='-')\n",
    "plt.ylim(-10,10)\n",
    "plt.xlabel('x')\n",
    "plt.ylabel('y=1/(x+1)')"
   ]
  },
  {
   "cell_type": "code",
   "execution_count": null,
   "id": "ed9e9cfb",
   "metadata": {},
   "outputs": [],
   "source": [
    "Combine the figures you created in the last step into one figure where each of the 4 equations has a different color for the points. Be sure to include a legend and an appropriate title for the figure."
   ]
  },
  {
   "cell_type": "code",
   "execution_count": null,
   "id": "53a7342b",
   "metadata": {},
   "outputs": [],
   "source": []
  },
  {
   "cell_type": "code",
   "execution_count": null,
   "id": "c0e716c5",
   "metadata": {},
   "outputs": [],
   "source": [
    "Make a new Jupyter notebook named big_o_notation.ipynb\n",
    "\n",
    "Title your chart \"Big O Notation\"\n",
    "Label your x axis \"Elements\"\n",
    "Label your y axis \"Operations\"\n",
    "Label your curves or make a legend for the curves\n",
    "Use LaTex notation where possible\n",
    "Curves to graph\n",
    "\n",
    "y\n",
    "=\n",
    "0\n",
    "n\n",
    "+\n",
    "1\n",
    " and label the curve \"O(1)\"\n",
    "y\n",
    "=\n",
    "l\n",
    "o\n",
    "g\n",
    "(\n",
    "n\n",
    ")\n",
    " and label the curve \"O(log n)\"\n",
    "y\n",
    "=\n",
    "n\n",
    " and label the curve \"O(n)\"\n",
    "y\n",
    "=\n",
    "n\n",
    "∗\n",
    "l\n",
    "o\n",
    "g\n",
    "(\n",
    "n\n",
    ")\n",
    " and label it \"O(n log n)\"\n",
    "y\n",
    "=\n",
    "n\n",
    "2\n",
    " and label it \"O(n^2)\"\n",
    "y\n",
    "=\n",
    "2\n",
    "n\n",
    " and label it \"O(2^n)\"\n",
    "y\n",
    "=\n",
    "n\n",
    "!\n",
    " and label it \"O(n!)\"\n",
    "y\n",
    "=\n",
    "n\n",
    "n\n",
    " and label it \"O(n^n)\""
   ]
  },
  {
   "cell_type": "code",
   "execution_count": null,
   "id": "8301a458",
   "metadata": {},
   "outputs": [],
   "source": []
  },
  {
   "cell_type": "code",
   "execution_count": null,
   "id": "72b62236",
   "metadata": {},
   "outputs": [],
   "source": [
    "Bonus Write the code necessary to write your name on a chart. Use box letters."
   ]
  },
  {
   "cell_type": "code",
   "execution_count": null,
   "id": "f60882cf",
   "metadata": {},
   "outputs": [],
   "source": []
  },
  {
   "cell_type": "code",
   "execution_count": null,
   "id": "05e2879f",
   "metadata": {},
   "outputs": [],
   "source": [
    "Bonus: use curves for letters in your name that have curves in them."
   ]
  }
 ],
 "metadata": {
  "kernelspec": {
   "display_name": "Python 3 (ipykernel)",
   "language": "python",
   "name": "python3"
  },
  "language_info": {
   "codemirror_mode": {
    "name": "ipython",
    "version": 3
   },
   "file_extension": ".py",
   "mimetype": "text/x-python",
   "name": "python",
   "nbconvert_exporter": "python",
   "pygments_lexer": "ipython3",
   "version": "3.9.12"
  }
 },
 "nbformat": 4,
 "nbformat_minor": 5
}
