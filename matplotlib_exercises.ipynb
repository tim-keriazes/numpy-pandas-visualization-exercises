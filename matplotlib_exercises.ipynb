Use matplotlib to plot the following equation:

y
=
x
2
−
x
+
2
You'll need to write the code that generates the x and y points.

Add an anotation for the point 0, 0, the origin.

Create and label 4 separate charts for the following equations (choose a range for x that makes sense):

y
=
√
x
y
=
x
3
y
=
2
x
y
=
1
/
(
x
+
1
)
You can use functions from the math module to help implement some of the equations above.

Combine the figures you created in the last step into one large figure with 4 subplots.

Combine the figures you created in the last step into one figure where each of the 4 equations has a different color for the points. Be sure to include a legend and an appropriate title for the figure.

Make a new Jupyter notebook named big_o_notation.ipynb

Title your chart "Big O Notation"
Label your x axis "Elements"
Label your y axis "Operations"
Label your curves or make a legend for the curves
Use LaTex notation where possible
Curves to graph

y
=
0
n
+
1
 and label the curve "O(1)"
y
=
l
o
g
(
n
)
 and label the curve "O(log n)"
y
=
n
 and label the curve "O(n)"
y
=
n
∗
l
o
g
(
n
)
 and label it "O(n log n)"
y
=
n
2
 and label it "O(n^2)"
y
=
2
n
 and label it "O(2^n)"
y
=
n
!
 and label it "O(n!)"
y
=
n
n
 and label it "O(n^n)"
Bonus Write the code necessary to write your name on a chart. Use box letters.

Bonus: use curves for letters in your name that have curves in them.
