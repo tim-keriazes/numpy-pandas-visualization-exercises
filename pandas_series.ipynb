{
 "cells": [
  {
   "cell_type": "code",
   "execution_count": 288,
   "id": "c2e0647b",
   "metadata": {},
   "outputs": [],
   "source": [
    "import numpy as np\n",
    "import pandas as pd\n",
    "import matplotlib.pyplot"
   ]
  },
  {
   "cell_type": "code",
   "execution_count": null,
   "id": "82219fa4",
   "metadata": {},
   "outputs": [],
   "source": []
  },
  {
   "cell_type": "code",
   "execution_count": 3,
   "id": "3d5ec6c0",
   "metadata": {},
   "outputs": [],
   "source": [
    "fruits_series = pd.Series (    [\"kiwi\", \"mango\", \"strawberry\", \"pineapple\", \"gala apple\", \"honeycrisp apple\", \"tomato\", \"watermelon\", \"honeydew\", \"kiwi\", \"kiwi\", \"kiwi\", \"mango\", \"blueberry\", \"blackberry\", \"gooseberry\", \"papaya\"]\n",
    ")"
   ]
  },
  {
   "cell_type": "code",
   "execution_count": 8,
   "id": "ca54e867",
   "metadata": {},
   "outputs": [
    {
     "data": {
      "text/plain": [
       "17"
      ]
     },
     "execution_count": 8,
     "metadata": {},
     "output_type": "execute_result"
    }
   ],
   "source": [
    "fruits_series.size\n",
    "#number of elements in the series"
   ]
  },
  {
   "cell_type": "code",
   "execution_count": 10,
   "id": "40cba18d",
   "metadata": {},
   "outputs": [
    {
     "data": {
      "text/plain": [
       "RangeIndex(start=0, stop=17, step=1)"
      ]
     },
     "execution_count": 10,
     "metadata": {},
     "output_type": "execute_result"
    }
   ],
   "source": [
    "fruits_series.index\n",
    "#output index"
   ]
  },
  {
   "cell_type": "code",
   "execution_count": 11,
   "id": "2b34f027",
   "metadata": {},
   "outputs": [
    {
     "data": {
      "text/plain": [
       "array(['kiwi', 'mango', 'strawberry', 'pineapple', 'gala apple',\n",
       "       'honeycrisp apple', 'tomato', 'watermelon', 'honeydew', 'kiwi',\n",
       "       'kiwi', 'kiwi', 'mango', 'blueberry', 'blackberry', 'gooseberry',\n",
       "       'papaya'], dtype=object)"
      ]
     },
     "execution_count": 11,
     "metadata": {},
     "output_type": "execute_result"
    }
   ],
   "source": [
    "fruits_series.values\n",
    "#output values"
   ]
  },
  {
   "cell_type": "code",
   "execution_count": 12,
   "id": "24e54a06",
   "metadata": {},
   "outputs": [
    {
     "data": {
      "text/plain": [
       "dtype('O')"
      ]
     },
     "execution_count": 12,
     "metadata": {},
     "output_type": "execute_result"
    }
   ],
   "source": [
    "fruits_series.dtype\n",
    "#datatype object"
   ]
  },
  {
   "cell_type": "code",
   "execution_count": 14,
   "id": "b2c80fc4",
   "metadata": {},
   "outputs": [
    {
     "data": {
      "text/plain": [
       "0          kiwi\n",
       "1         mango\n",
       "2    strawberry\n",
       "3     pineapple\n",
       "4    gala apple\n",
       "dtype: object"
      ]
     },
     "execution_count": 14,
     "metadata": {},
     "output_type": "execute_result"
    }
   ],
   "source": [
    "fruits_series.head(5)\n",
    "#first five"
   ]
  },
  {
   "cell_type": "code",
   "execution_count": 17,
   "id": "e52d25d3",
   "metadata": {},
   "outputs": [
    {
     "data": {
      "text/plain": [
       "count       17\n",
       "unique      13\n",
       "top       kiwi\n",
       "freq         4\n",
       "dtype: object"
      ]
     },
     "execution_count": 17,
     "metadata": {},
     "output_type": "execute_result"
    }
   ],
   "source": [
    "fruits_series.describe()"
   ]
  },
  {
   "cell_type": "code",
   "execution_count": 19,
   "id": "77268aed",
   "metadata": {},
   "outputs": [
    {
     "data": {
      "text/plain": [
       "Index(['kiwi', 'mango', 'strawberry', 'pineapple', 'gala apple',\n",
       "       'honeycrisp apple', 'tomato', 'watermelon', 'honeydew', 'blueberry',\n",
       "       'blackberry', 'gooseberry', 'papaya'],\n",
       "      dtype='object')"
      ]
     },
     "execution_count": 19,
     "metadata": {},
     "output_type": "execute_result"
    }
   ],
   "source": [
    "fruits_series.value_counts().index\n",
    "#unique values"
   ]
  },
  {
   "cell_type": "code",
   "execution_count": 20,
   "id": "28c79096",
   "metadata": {},
   "outputs": [
    {
     "data": {
      "text/plain": [
       "kiwi                4\n",
       "mango               2\n",
       "strawberry          1\n",
       "pineapple           1\n",
       "gala apple          1\n",
       "honeycrisp apple    1\n",
       "tomato              1\n",
       "watermelon          1\n",
       "honeydew            1\n",
       "blueberry           1\n",
       "blackberry          1\n",
       "gooseberry          1\n",
       "papaya              1\n",
       "dtype: int64"
      ]
     },
     "execution_count": 20,
     "metadata": {},
     "output_type": "execute_result"
    }
   ],
   "source": [
    "fruits_series.value_counts()\n",
    "#number of each unique"
   ]
  },
  {
   "cell_type": "code",
   "execution_count": 22,
   "id": "511e8641",
   "metadata": {},
   "outputs": [
    {
     "data": {
      "text/plain": [
       "kiwi    4\n",
       "dtype: int64"
      ]
     },
     "execution_count": 22,
     "metadata": {},
     "output_type": "execute_result"
    }
   ],
   "source": [
    "fruits_series.value_counts().nlargest(n=1)\n",
    "#most frequent"
   ]
  },
  {
   "cell_type": "code",
   "execution_count": 26,
   "id": "5c473d49",
   "metadata": {},
   "outputs": [
    {
     "data": {
      "text/plain": [
       "strawberry          1\n",
       "pineapple           1\n",
       "gala apple          1\n",
       "honeycrisp apple    1\n",
       "tomato              1\n",
       "watermelon          1\n",
       "honeydew            1\n",
       "blueberry           1\n",
       "blackberry          1\n",
       "gooseberry          1\n",
       "papaya              1\n",
       "dtype: int64"
      ]
     },
     "execution_count": 26,
     "metadata": {},
     "output_type": "execute_result"
    }
   ],
   "source": [
    "fruits_series.value_counts().nsmallest(n=1, keep = 'all')\n",
    "#least frequent"
   ]
  },
  {
   "cell_type": "code",
   "execution_count": 76,
   "id": "a343bb12",
   "metadata": {},
   "outputs": [
    {
     "data": {
      "text/plain": [
       "0                 Kiwi\n",
       "1                Mango\n",
       "2           Strawberry\n",
       "3            Pineapple\n",
       "4           Gala apple\n",
       "5     Honeycrisp apple\n",
       "6               Tomato\n",
       "7           Watermelon\n",
       "8             Honeydew\n",
       "9                 Kiwi\n",
       "10                Kiwi\n",
       "11                Kiwi\n",
       "12               Mango\n",
       "13           Blueberry\n",
       "14          Blackberry\n",
       "15          Gooseberry\n",
       "16              Papaya\n",
       "dtype: object"
      ]
     },
     "execution_count": 76,
     "metadata": {},
     "output_type": "execute_result"
    }
   ],
   "source": [
    "fruits_series.str.capitalize()\n",
    "#capitalize"
   ]
  },
  {
   "cell_type": "code",
   "execution_count": 77,
   "id": "eda97ede",
   "metadata": {},
   "outputs": [
    {
     "data": {
      "text/plain": [
       "14"
      ]
     },
     "execution_count": 77,
     "metadata": {},
     "output_type": "execute_result"
    }
   ],
   "source": [
    "sum(fruits_series.str.count('a'))\n",
    "#count a"
   ]
  },
  {
   "cell_type": "code",
   "execution_count": 104,
   "id": "a5ecada4",
   "metadata": {},
   "outputs": [],
   "source": [
    "def vowel_counter(str):\n",
    "    counter = 0\n",
    "    for char in str:\n",
    "        if char in \"aeiou\":\n",
    "            counter = counter +1\n",
    "    return counter"
   ]
  },
  {
   "cell_type": "code",
   "execution_count": 105,
   "id": "31b3d004",
   "metadata": {},
   "outputs": [
    {
     "data": {
      "text/plain": [
       "5"
      ]
     },
     "execution_count": 105,
     "metadata": {},
     "output_type": "execute_result"
    }
   ],
   "source": [
    "vowel_counter(\"aaaaa\")"
   ]
  },
  {
   "cell_type": "code",
   "execution_count": 106,
   "id": "e8a30439",
   "metadata": {},
   "outputs": [
    {
     "data": {
      "text/plain": [
       "0     2\n",
       "1     2\n",
       "2     2\n",
       "3     4\n",
       "4     4\n",
       "5     5\n",
       "6     3\n",
       "7     4\n",
       "8     3\n",
       "9     2\n",
       "10    2\n",
       "11    2\n",
       "12    2\n",
       "13    3\n",
       "14    2\n",
       "15    4\n",
       "16    3\n",
       "dtype: int64"
      ]
     },
     "execution_count": 106,
     "metadata": {},
     "output_type": "execute_result"
    }
   ],
   "source": [
    "fruits_series.apply(vowel_counter)"
   ]
  },
  {
   "cell_type": "code",
   "execution_count": 83,
   "id": "c8b2477b",
   "metadata": {},
   "outputs": [
    {
     "data": {
      "text/plain": [
       "'honeycrisp apple'"
      ]
     },
     "execution_count": 83,
     "metadata": {},
     "output_type": "execute_result"
    }
   ],
   "source": [
    "fruits_series[fruits_series.str.len().idxmax()]"
   ]
  },
  {
   "cell_type": "code",
   "execution_count": 80,
   "id": "9d20049e",
   "metadata": {
    "scrolled": true
   },
   "outputs": [
    {
     "data": {
      "text/plain": [
       "1                mango\n",
       "2           strawberry\n",
       "3            pineapple\n",
       "4           gala apple\n",
       "5     honeycrisp apple\n",
       "6               tomato\n",
       "7           watermelon\n",
       "8             honeydew\n",
       "12               mango\n",
       "13           blueberry\n",
       "14          blackberry\n",
       "15          gooseberry\n",
       "16              papaya\n",
       "dtype: object"
      ]
     },
     "execution_count": 80,
     "metadata": {},
     "output_type": "execute_result"
    }
   ],
   "source": [
    "fruits_series[fruits_series.str.len()>= 5]\n",
    "#all the fruits with longer than 5 char"
   ]
  },
  {
   "cell_type": "code",
   "execution_count": 126,
   "id": "b644295e",
   "metadata": {},
   "outputs": [
    {
     "data": {
      "text/plain": [
       "6         tomato\n",
       "15    gooseberry\n",
       "dtype: object"
      ]
     },
     "execution_count": 126,
     "metadata": {},
     "output_type": "execute_result"
    }
   ],
   "source": [
    "fruits_series[fruits_series.str.count('o') >1]\n",
    "#has an o, not sure how to make it look for more than one o"
   ]
  },
  {
   "cell_type": "code",
   "execution_count": 128,
   "id": "85bee530",
   "metadata": {},
   "outputs": [
    {
     "data": {
      "text/plain": [
       "2    strawberry\n",
       "dtype: object"
      ]
     },
     "execution_count": 128,
     "metadata": {},
     "output_type": "execute_result"
    }
   ],
   "source": [
    "fruits_series[fruits_series == \"strawberry\"]"
   ]
  },
  {
   "cell_type": "code",
   "execution_count": 65,
   "id": "a13f68a9",
   "metadata": {},
   "outputs": [
    {
     "data": {
      "text/plain": [
       "2     strawberry\n",
       "13     blueberry\n",
       "14    blackberry\n",
       "15    gooseberry\n",
       "dtype: object"
      ]
     },
     "execution_count": 65,
     "metadata": {},
     "output_type": "execute_result"
    }
   ],
   "source": [
    "fruits_series[fruits_series.str.contains(\"berry\")]\n",
    "#all of the berrys"
   ]
  },
  {
   "cell_type": "code",
   "execution_count": 66,
   "id": "0c923d50",
   "metadata": {},
   "outputs": [
    {
     "data": {
      "text/plain": [
       "3           pineapple\n",
       "4          gala apple\n",
       "5    honeycrisp apple\n",
       "dtype: object"
      ]
     },
     "execution_count": 66,
     "metadata": {},
     "output_type": "execute_result"
    }
   ],
   "source": [
    "fruits_series[fruits_series.str.contains(\"apple\")]\n",
    "#all of the apples"
   ]
  },
  {
   "cell_type": "code",
   "execution_count": 112,
   "id": "cf124a07",
   "metadata": {
    "scrolled": true
   },
   "outputs": [
    {
     "data": {
      "text/plain": [
       "5"
      ]
     },
     "execution_count": 112,
     "metadata": {},
     "output_type": "execute_result"
    }
   ],
   "source": [
    "fruits_series.apply(vowel_counter).idxmax()\n",
    "#shows which index has the most vowels"
   ]
  },
  {
   "cell_type": "code",
   "execution_count": 113,
   "id": "c8c1a56d",
   "metadata": {},
   "outputs": [
    {
     "data": {
      "text/plain": [
       "'honeycrisp apple'"
      ]
     },
     "execution_count": 113,
     "metadata": {},
     "output_type": "execute_result"
    }
   ],
   "source": [
    "fruits_series[5]\n",
    "#calls that index"
   ]
  },
  {
   "cell_type": "code",
   "execution_count": 137,
   "id": "66784b2e",
   "metadata": {},
   "outputs": [],
   "source": [
    "letters = list('hnvidduckkqxwymbimkccexbkmqygkxoyndmcxnwqarhyffsjpsrabtjzsypmzadfavyrnndndvswreauxovncxtwzpwejilzjrmmbbgbyxvjtewqthafnbkqplarokkyydtubbmnexoypulzwfhqvckdpqtpoppzqrmcvhhpwgjwupgzhiofohawytlsiyecuproguy')\n",
    "#string into list"
   ]
  },
  {
   "cell_type": "code",
   "execution_count": 138,
   "id": "05f1116c",
   "metadata": {},
   "outputs": [],
   "source": [
    "letters_series =pd.Series(letters)\n",
    "#list into series"
   ]
  },
  {
   "cell_type": "code",
   "execution_count": 153,
   "id": "40067bcf",
   "metadata": {},
   "outputs": [
    {
     "data": {
      "text/plain": [
       "y    13\n",
       "p    12\n",
       "w    10\n",
       "b     9\n",
       "n     9\n",
       "k     9\n",
       "m     9\n",
       "r     8\n",
       "a     8\n",
       "o     8\n",
       "h     8\n",
       "x     8\n",
       "q     8\n",
       "c     8\n",
       "d     8\n",
       "u     7\n",
       "v     7\n",
       "t     7\n",
       "z     7\n",
       "e     6\n",
       "f     6\n",
       "j     6\n",
       "g     5\n",
       "i     5\n",
       "s     5\n",
       "l     4\n",
       "dtype: int64"
      ]
     },
     "execution_count": 153,
     "metadata": {},
     "output_type": "execute_result"
    }
   ],
   "source": [
    "letters_series.value_counts()\n",
    "#counts the letters, max"
   ]
  },
  {
   "cell_type": "code",
   "execution_count": 154,
   "id": "f865c9bc",
   "metadata": {},
   "outputs": [
    {
     "data": {
      "text/plain": [
       "l    4\n",
       "dtype: int64"
      ]
     },
     "execution_count": 154,
     "metadata": {},
     "output_type": "execute_result"
    }
   ],
   "source": [
    "letters_series.value_counts().tail(1)\n",
    "#counts the letters, returns the lowest used"
   ]
  },
  {
   "cell_type": "code",
   "execution_count": 167,
   "id": "18733eeb",
   "metadata": {},
   "outputs": [],
   "source": [
    "vowels=['a','e','i','o','u']"
   ]
  },
  {
   "cell_type": "code",
   "execution_count": 175,
   "id": "debd671b",
   "metadata": {},
   "outputs": [
    {
     "data": {
      "text/plain": [
       "34"
      ]
     },
     "execution_count": 175,
     "metadata": {},
     "output_type": "execute_result"
    }
   ],
   "source": [
    "sum(letters_series[letters_series.isin(vowels)].value_counts())\n",
    "#set list of vowels, see if the series elements are in that list, set up boolean mask, sum the counts"
   ]
  },
  {
   "cell_type": "code",
   "execution_count": 178,
   "id": "56a10ed2",
   "metadata": {},
   "outputs": [
    {
     "data": {
      "text/plain": [
       "166"
      ]
     },
     "execution_count": 178,
     "metadata": {},
     "output_type": "execute_result"
    }
   ],
   "source": [
    "sum(letters_series[~letters_series.isin(vowels)].value_counts())\n",
    "#the ~ makes the isin become not in"
   ]
  },
  {
   "cell_type": "code",
   "execution_count": 295,
   "id": "812fa079",
   "metadata": {},
   "outputs": [
    {
     "data": {
      "text/plain": [
       "0      H\n",
       "1      N\n",
       "2      V\n",
       "3      I\n",
       "4      D\n",
       "      ..\n",
       "195    R\n",
       "196    O\n",
       "197    G\n",
       "198    U\n",
       "199    Y\n",
       "Length: 200, dtype: object"
      ]
     },
     "execution_count": 295,
     "metadata": {},
     "output_type": "execute_result"
    }
   ],
   "source": [
    "uppercase_letters = letters_series.str.upper()\n",
    "uppercase_letters"
   ]
  },
  {
   "cell_type": "code",
   "execution_count": 184,
   "id": "9628f880",
   "metadata": {},
   "outputs": [
    {
     "data": {
      "text/plain": [
       "<AxesSubplot:>"
      ]
     },
     "execution_count": 184,
     "metadata": {},
     "output_type": "execute_result"
    },
    {
     "data": {
      "image/png": "[encoded data removed]",
      "text/plain": [
       "<Figure size 432x288 with 1 Axes>"
      ]
     },
     "metadata": {
      "needs_background": "light"
     },
     "output_type": "display_data"
    }
   ],
   "source": [
    "letters_series.value_counts().head(6).plot.bar()"
   ]
  },
  {
   "cell_type": "code",
   "execution_count": 186,
   "id": "8a82d359",
   "metadata": {},
   "outputs": [],
   "source": [
    "x=list(    ['$796,459.41', '$278.60', '$482,571.67', '$4,503,915.98', '$2,121,418.3', '$1,260,813.3', '$87,231.01', '$1,509,175.45', '$4,138,548.00', '$2,848,913.80', '$594,715.39', '$4,789,988.17', '$4,513,644.5', '$3,191,059.97', '$1,758,712.24', '$4,338,283.54', '$4,738,303.38', '$2,791,759.67', '$769,681.94', '$452,650.23']\n",
    ")\n",
    "\n",
    "#data type is object"
   ]
  },
  {
   "cell_type": "code",
   "execution_count": 187,
   "id": "415c9529",
   "metadata": {},
   "outputs": [],
   "source": [
    "numbers=pd.Series(x)\n",
    "#string into a list into series, series is an object data type, must be cleaned of commas and dollar signs"
   ]
  },
  {
   "cell_type": "code",
   "execution_count": 206,
   "id": "17020e00",
   "metadata": {},
   "outputs": [
    {
     "name": "stderr",
     "output_type": "stream",
     "text": [
      "C:\\Users\\Timmy\\AppData\\Local\\Temp\\ipykernel_3760\\2917983345.py:1: FutureWarning: The default value of regex will change from True to False in a future version. In addition, single character regular expressions will *not* be treated as literal strings when regex=True.\n",
      "  numbers_nodsign =numbers.str.replace('$','')\n"
     ]
    }
   ],
   "source": [
    "numbers_nodsign =numbers.str.replace('$','')\n",
    "#remove dollar sign"
   ]
  },
  {
   "cell_type": "code",
   "execution_count": 209,
   "id": "3623edf0",
   "metadata": {},
   "outputs": [],
   "source": [
    "float_numbers=numbers_nodsign.str.replace(',','')\n",
    "#remove comma"
   ]
  },
  {
   "cell_type": "code",
   "execution_count": 221,
   "id": "23134bdb",
   "metadata": {},
   "outputs": [],
   "source": [
    "float_series=float_numbers.astype('float')\n",
    "#convert to float"
   ]
  },
  {
   "cell_type": "code",
   "execution_count": 229,
   "id": "83deffcf",
   "metadata": {},
   "outputs": [
    {
     "data": {
      "text/plain": [
       "20"
      ]
     },
     "execution_count": 229,
     "metadata": {},
     "output_type": "execute_result"
    }
   ],
   "source": [
    "float_series.size\n",
    "#20 rows"
   ]
  },
  {
   "cell_type": "code",
   "execution_count": 233,
   "id": "a41fb697",
   "metadata": {},
   "outputs": [
    {
     "data": {
      "text/plain": [
       "796459.41     1\n",
       "278.60        1\n",
       "769681.94     1\n",
       "2791759.67    1\n",
       "4738303.38    1\n",
       "4338283.54    1\n",
       "1758712.24    1\n",
       "3191059.97    1\n",
       "4513644.50    1\n",
       "4789988.17    1\n",
       "594715.39     1\n",
       "2848913.80    1\n",
       "4138548.00    1\n",
       "1509175.45    1\n",
       "87231.01      1\n",
       "1260813.30    1\n",
       "2121418.30    1\n",
       "4503915.98    1\n",
       "482571.67     1\n",
       "452650.23     1\n",
       "dtype: int64"
      ]
     },
     "execution_count": 233,
     "metadata": {},
     "output_type": "execute_result"
    }
   ],
   "source": [
    "float_series.value_counts()"
   ]
  },
  {
   "cell_type": "code",
   "execution_count": 232,
   "id": "e5d73684",
   "metadata": {},
   "outputs": [
    {
     "data": {
      "text/plain": [
       "count    2.000000e+01\n",
       "mean     2.284406e+06\n",
       "std      1.735261e+06\n",
       "min      2.786000e+02\n",
       "25%      7.259403e+05\n",
       "50%      1.940065e+06\n",
       "75%      4.188482e+06\n",
       "max      4.789988e+06\n",
       "dtype: float64"
      ]
     },
     "execution_count": 232,
     "metadata": {},
     "output_type": "execute_result"
    }
   ],
   "source": [
    "float_series.describe()\n",
    "#max is 4.78x10^6 min is 2.78x10^2 range is from the min to max. 278.6 to 4789988"
   ]
  },
  {
   "cell_type": "code",
   "execution_count": 296,
   "id": "529dd25c",
   "metadata": {},
   "outputs": [
    {
     "data": {
      "text/plain": [
       "(2395133.385, 3592560.778]    3\n",
       "(1197705.993, 2395133.385]    4\n",
       "(3592560.778, 4789988.17]     6\n",
       "(-4511.11, 1197705.993]       7\n",
       "dtype: int64"
      ]
     },
     "execution_count": 296,
     "metadata": {},
     "output_type": "execute_result"
    }
   ],
   "source": [
    "binx=pd.cut(float_series, 4).value_counts()\n",
    "#bin the data series\n",
    "binx.sort_values()"
   ]
  },
  {
   "cell_type": "code",
   "execution_count": 299,
   "id": "e4441d98",
   "metadata": {},
   "outputs": [
    {
     "data": {
      "text/plain": [
       "<AxesSubplot:title={'center':'title'}>"
      ]
     },
     "execution_count": 299,
     "metadata": {},
     "output_type": "execute_result"
    },
    {
     "data": {
      "image/png": "[encoded data removed]",
      "text/plain": [
       "<Figure size 432x288 with 1 Axes>"
      ]
     },
     "metadata": {
      "needs_background": "light"
     },
     "output_type": "display_data"
    }
   ],
   "source": [
    "pd.cut(float_series, bins=4, labels = ['small','medium','large','extralarge']).value_counts(sort=False).plot.bar(title='title')"
   ]
  },
  {
   "cell_type": "code",
   "execution_count": 263,
   "id": "367d5c16",
   "metadata": {},
   "outputs": [
    {
     "data": {
      "text/plain": [
       "<AxesSubplot:title={'center':'title'}, ylabel='Frequency'>"
      ]
     },
     "execution_count": 263,
     "metadata": {},
     "output_type": "execute_result"
    },
    {
     "data": {
      "image/png": "[encoded data removed]",
      "text/plain": [
       "<Figure size 432x288 with 1 Axes>"
      ]
     },
     "metadata": {
      "needs_background": "light"
     },
     "output_type": "display_data"
    }
   ],
   "source": [
    "float_series.plot.hist(title='title')\n",
    "#not quite sure how to get the rest of the details added to the chart\n"
   ]
  },
  {
   "cell_type": "code",
   "execution_count": 264,
   "id": "dd2eae9d",
   "metadata": {},
   "outputs": [],
   "source": [
    "exam = list(    [60, 86, 75, 62, 93, 71, 60, 83, 95, 78, 65, 72, 69, 81, 96, 80, 85, 92, 82, 78]\n",
    ")"
   ]
  },
  {
   "cell_type": "code",
   "execution_count": 266,
   "id": "eeda82da",
   "metadata": {},
   "outputs": [],
   "source": [
    "exam_scores = pd.Series(exam)"
   ]
  },
  {
   "cell_type": "code",
   "execution_count": 269,
   "id": "4462f2a6",
   "metadata": {},
   "outputs": [
    {
     "data": {
      "text/plain": [
       "count    20.000000\n",
       "mean     78.150000\n",
       "std      11.352139\n",
       "min      60.000000\n",
       "25%      70.500000\n",
       "50%      79.000000\n",
       "75%      85.250000\n",
       "max      96.000000\n",
       "dtype: float64"
      ]
     },
     "execution_count": 269,
     "metadata": {},
     "output_type": "execute_result"
    }
   ],
   "source": [
    "exam_scores.describe()\n",
    "#20 rows, max 96, min 60, mean78.15,"
   ]
  },
  {
   "cell_type": "code",
   "execution_count": 271,
   "id": "cdd1eb84",
   "metadata": {},
   "outputs": [
    {
     "data": {
      "text/plain": [
       "79.0"
      ]
     },
     "execution_count": 271,
     "metadata": {},
     "output_type": "execute_result"
    }
   ],
   "source": [
    "exam_scores.median()\n",
    "#median"
   ]
  },
  {
   "cell_type": "code",
   "execution_count": 303,
   "id": "926ffcc5",
   "metadata": {},
   "outputs": [
    {
     "data": {
      "text/plain": [
       "c    6\n",
       "f    5\n",
       "b    5\n",
       "a    4\n",
       "dtype: int64"
      ]
     },
     "execution_count": 303,
     "metadata": {},
     "output_type": "execute_result"
    }
   ],
   "source": [
    "\n",
    "binned_scores=pd.cut(exam_scores, bins = [0,70,80,90,100], labels = ['f','c','b','a'])\n",
    "binned_scores.value_counts()\n"
   ]
  },
  {
   "cell_type": "code",
   "execution_count": 304,
   "id": "5b3adfcc",
   "metadata": {},
   "outputs": [
    {
     "data": {
      "text/plain": [
       "[Text(0.5, 0, 'xlabel'), Text(0, 0.5, 'ylabel')]"
      ]
     },
     "execution_count": 304,
     "metadata": {},
     "output_type": "execute_result"
    },
    {
     "data": {
      "image/png": "[encoded data removed]",
      "text/plain": [
       "<Figure size 432x288 with 1 Axes>"
      ]
     },
     "metadata": {
      "needs_background": "light"
     },
     "output_type": "display_data"
    }
   ],
   "source": [
    "binned_scores.value_counts(sort=False).plot.bar(title='title',rot=0).set(xlabel='xlabel',ylabel='ylabel')"
   ]
  },
  {
   "cell_type": "code",
   "execution_count": 305,
   "id": "9f5a4b4e",
   "metadata": {},
   "outputs": [
    {
     "data": {
      "text/plain": [
       "0      64\n",
       "1      90\n",
       "2      79\n",
       "3      66\n",
       "4      97\n",
       "5      75\n",
       "6      64\n",
       "7      87\n",
       "8      99\n",
       "9      82\n",
       "10     69\n",
       "11     76\n",
       "12     73\n",
       "13     85\n",
       "14    100\n",
       "15     84\n",
       "16     89\n",
       "17     96\n",
       "18     86\n",
       "19     82\n",
       "dtype: int64"
      ]
     },
     "execution_count": 305,
     "metadata": {},
     "output_type": "execute_result"
    }
   ],
   "source": [
    "high_grade=exam_scores.max()\n",
    "curve=100-high_grade\n",
    "curved_grades=exam_scores+curve\n",
    "curved_grades"
   ]
  },
  {
   "cell_type": "code",
   "execution_count": null,
   "id": "824eff2c",
   "metadata": {},
   "outputs": [],
   "source": []
  },
  {
   "cell_type": "code",
   "execution_count": null,
   "id": "9def8198",
   "metadata": {},
   "outputs": [],
   "source": []
  }
 ],
 "metadata": {
  "kernelspec": {
   "display_name": "Python 3 (ipykernel)",
   "language": "python",
   "name": "python3"
  },
  "language_info": {
   "codemirror_mode": {
    "name": "ipython",
    "version": 3
   },
   "file_extension": ".py",
   "mimetype": "text/x-python",
   "name": "python",
   "nbconvert_exporter": "python",
   "pygments_lexer": "ipython3",
   "version": "3.9.12"
  }
 },
 "nbformat": 4,
 "nbformat_minor": 5
}
